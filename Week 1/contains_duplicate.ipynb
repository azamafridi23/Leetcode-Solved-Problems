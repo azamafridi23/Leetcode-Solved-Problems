{
 "cells": [
  {
   "cell_type": "markdown",
   "metadata": {},
   "source": [
    "#### Question: Given an integer array nums, return true if any value appears at least twice in the array, and return false if every element is distinct.\n",
    "\n",
    "##### Example 1:\n",
    "- Input: nums = [1,2,3,1]\n",
    "- Output: true\n",
    "\n",
    "##### Example 2:\n",
    "- Input: nums = [1,2,3,4]\n",
    "- Output: false\n",
    "\n",
    "##### Example 3:\n",
    "- Input: nums = [1,1,1,3,3,4,3,2,4,2]\n",
    "- Output: true"
   ]
  },
  {
   "cell_type": "markdown",
   "metadata": {},
   "source": [
    "\n",
    "##### Level: Easy\n",
    "##### Link: https://leetcode.com/problems/contains-duplicate/description/"
   ]
  },
  {
   "cell_type": "markdown",
   "metadata": {},
   "source": [
    "##### Approaches=>\n",
    "- Approach 1: Brute Force => O(N^2)\n",
    "- Approach 2: Sorting => O(N log N)\n",
    "- Approach 3: Hash Map => O(N)"
   ]
  },
  {
   "cell_type": "code",
   "execution_count": 1,
   "metadata": {},
   "outputs": [],
   "source": [
    "def solution(nums):\n",
    "    hashmap=dict()\n",
    "    for num in nums:\n",
    "        if num in hashmap and hashmap[num] >= 1:\n",
    "            return True\n",
    "        hashmap[num] = hashmap.get(num, 0) + 1\n",
    "    \n",
    "    return False"
   ]
  },
  {
   "cell_type": "code",
   "execution_count": 2,
   "metadata": {},
   "outputs": [
    {
     "name": "stdout",
     "output_type": "stream",
     "text": [
      "True\n"
     ]
    }
   ],
   "source": [
    "print(solution([1,1,1,3,3,4,3,2,4,2]))"
   ]
  }
 ],
 "metadata": {
  "kernelspec": {
   "display_name": "Python 3",
   "language": "python",
   "name": "python3"
  },
  "language_info": {
   "codemirror_mode": {
    "name": "ipython",
    "version": 3
   },
   "file_extension": ".py",
   "mimetype": "text/x-python",
   "name": "python",
   "nbconvert_exporter": "python",
   "pygments_lexer": "ipython3",
   "version": "3.9.6"
  }
 },
 "nbformat": 4,
 "nbformat_minor": 2
}
