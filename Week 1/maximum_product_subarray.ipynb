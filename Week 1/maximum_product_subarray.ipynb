{
 "cells": [
  {
   "cell_type": "code",
   "execution_count": null,
   "metadata": {},
   "outputs": [],
   "source": []
  },
  {
   "cell_type": "code",
   "execution_count": null,
   "metadata": {},
   "outputs": [],
   "source": []
  },
  {
   "cell_type": "markdown",
   "metadata": {},
   "source": [
    "##### The below approach is in this video: https://www.youtube.com/watch?v=lXVy6YWFcRM"
   ]
  },
  {
   "cell_type": "code",
   "execution_count": 10,
   "metadata": {},
   "outputs": [],
   "source": [
    "def solution(nums):\n",
    "    result = max(nums)\n",
    "    currMin, currMax = 1,1\n",
    "\n",
    "    for n in nums:\n",
    "        if n==0: # EVEN IF U REMOVE THIS IF STATEMENT THIS CODE WILL WORK\n",
    "            currMin, currMax = 1,1\n",
    "            continue\n",
    "        temp= currMax*n\n",
    "        currMax = max(n * currMax, n * currMin, n)\n",
    "        currMin = min(temp, n * currMin, n)\n",
    "        \n",
    "        result = max(result, currMax)\n",
    "    return result\n"
   ]
  },
  {
   "cell_type": "code",
   "execution_count": 11,
   "metadata": {},
   "outputs": [
    {
     "data": {
      "text/plain": [
       "(6, 0)"
      ]
     },
     "execution_count": 11,
     "metadata": {},
     "output_type": "execute_result"
    }
   ],
   "source": [
    "solution([2,3,-2,4]), solution([-2,0,-1])"
   ]
  },
  {
   "cell_type": "markdown",
   "metadata": {},
   "source": [
    "##### Approach 2: https://leetcode.com/problems/maximum-product-subarray/solutions/3321410/c-kadane-s-algo-full-explanation/\n",
    "\n",
    "Approach\n",
    "The Approach to this question is exactly same as Kadane's Algo the only differece is, we will be traversing the array from both sides i.e left to right ( lets say the max prod is maxi1 ) and from right to left ( say max prod is maxi2 ), now the final answer will we max of maxi1 and maxi2.\n",
    "\n",
    "Ques : Why do we have a need to traverse from right to left ??\n",
    "Ans : lets take an example\n",
    "arr {-8,5,3,1,6}\n",
    "\n",
    "// By traversing left to right we have an answer maxi1.\n",
    "maxi1 = -720 , which is clearly not the max prod value.\n",
    "-> The whole concept lies in this statement - As we can see that there is only 1 negative no. ( if we consider that no. then the final answer can never be positive ), therefore to avoid this situation we also traverse from right to left to get the final maximum prod.\n",
    "\n",
    "\n"
   ]
  },
  {
   "cell_type": "code",
   "execution_count": 3,
   "metadata": {},
   "outputs": [],
   "source": [
    "class Solution {\n",
    "public:\n",
    "    int maxProduct(vector<int>& nums) {\n",
    "        int maxi = INT_MIN;\n",
    "        int prod=1;\n",
    "\n",
    "        for(int i=0;i<nums.size();i++)\n",
    "        {\n",
    "          prod*=nums[i];\n",
    "          maxi=max(prod,maxi);\n",
    "          if(prod==0)\n",
    "           prod=1;\n",
    "        }\n",
    "        prod=1;\n",
    "        for(int i=nums.size()-1;i>=0;i--)\n",
    "        {\n",
    "          prod*=nums[i];\n",
    "\n",
    "          maxi=max(prod,maxi);\n",
    "          if(prod==0)\n",
    "           prod=1;\n",
    "        }\n",
    "        return maxi;\n",
    "    }\n",
    "};"
   ]
  },
  {
   "cell_type": "code",
   "execution_count": null,
   "metadata": {},
   "outputs": [],
   "source": []
  }
 ],
 "metadata": {
  "kernelspec": {
   "display_name": "Python 3",
   "language": "python",
   "name": "python3"
  },
  "language_info": {
   "codemirror_mode": {
    "name": "ipython",
    "version": 3
   },
   "file_extension": ".py",
   "mimetype": "text/x-python",
   "name": "python",
   "nbconvert_exporter": "python",
   "pygments_lexer": "ipython3",
   "version": "3.9.6"
  }
 },
 "nbformat": 4,
 "nbformat_minor": 2
}
